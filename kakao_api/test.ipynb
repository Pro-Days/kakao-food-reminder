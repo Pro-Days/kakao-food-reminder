{
 "cells": [
  {
   "cell_type": "code",
   "execution_count": 2,
   "metadata": {},
   "outputs": [
    {
     "name": "stdout",
     "output_type": "stream",
     "text": [
      "{'posts': [{'title': 'How to get stroage size', 'url': 'https://codechacha.com/ko/get-free-and-total-size-of-volumes-in-android/', 'draft': 'false'}, {'title': 'Android Q, Scoped Storage', 'url': 'https://codechacha.com/ko/android-q-scoped-storage/', 'draft': 'false'}]}\n"
     ]
    }
   ],
   "source": [
    "import json\n",
    "\n",
    "file_path = \"temp.json\"\n",
    "\n",
    "data = {}\n",
    "data['posts'] = []\n",
    "data['posts'].append({\n",
    "    \"title\": \"How to get stroage size\",\n",
    "    \"url\": \"https://codechacha.com/ko/get-free-and-total-size-of-volumes-in-android/\",\n",
    "    \"draft\": \"false\"\n",
    "})\n",
    "data['posts'].append({\n",
    "    \"title\": \"Android Q, Scoped Storage\",\n",
    "    \"url\": \"https://codechacha.com/ko/android-q-scoped-storage/\",\n",
    "    \"draft\": \"false\"\n",
    "})\n",
    "print(data)\n",
    "\n",
    "with open(file_path, 'w', encoding=\"UTF-8\") as outfile:\n",
    "    json.dump(data, outfile, indent=4)"
   ]
  }
 ],
 "metadata": {
  "kernelspec": {
   "display_name": "Python 3.9.2 64-bit",
   "language": "python",
   "name": "python3"
  },
  "language_info": {
   "codemirror_mode": {
    "name": "ipython",
    "version": 3
   },
   "file_extension": ".py",
   "mimetype": "text/x-python",
   "name": "python",
   "nbconvert_exporter": "python",
   "pygments_lexer": "ipython3",
   "version": "3.9.2"
  },
  "orig_nbformat": 4,
  "vscode": {
   "interpreter": {
    "hash": "24990ebc4bf5946b003447b27e95cf623b0464dc2ad20264d273ba13a30ba3fe"
   }
  }
 },
 "nbformat": 4,
 "nbformat_minor": 2
}
